{
 "cells": [
  {
   "cell_type": "code",
   "execution_count": 1,
   "id": "6c42ad88322382a",
   "metadata": {
    "ExecuteTime": {
     "end_time": "2025-03-24T18:27:47.741826Z",
     "start_time": "2025-03-24T18:27:42.424005Z"
    }
   },
   "outputs": [
    {
     "name": "stdout",
     "output_type": "stream",
     "text": [
      "Creating new Ultralytics Settings v0.0.6 file ✅ \n",
      "View Ultralytics Settings with 'yolo settings' or at '/home/teixeira/.config/Ultralytics/settings.json'\n",
      "Update Settings with 'yolo settings key=value', i.e. 'yolo settings runs_dir=path/to/dir'. For help see https://docs.ultralytics.com/quickstart/#ultralytics-settings.\n"
     ]
    }
   ],
   "source": [
    "from ultralytics import YOLO\n",
    "import torch\n",
    "import os\n",
    "from torch.utils.data import DataLoader\n",
    "from ultralytics.data.dataset import YOLODataset"
   ]
  },
  {
   "cell_type": "code",
   "execution_count": 2,
   "id": "612ff091dea7e87f",
   "metadata": {
    "ExecuteTime": {
     "end_time": "2025-03-24T18:27:50.992907Z",
     "start_time": "2025-03-24T18:27:50.948501Z"
    }
   },
   "outputs": [
    {
     "name": "stderr",
     "output_type": "stream",
     "text": [
      "Downloading https://github.com/ultralytics/assets/releases/download/v8.3.0/yolo11n.pt to 'yolo11n.pt': 100%|██████████| 5.35M/5.35M [00:00<00:00, 28.7MB/s]\n"
     ]
    }
   ],
   "source": [
    "model = YOLO(\"yolo11n.pt\")  # nano version for faster prototyping"
   ]
  },
  {
   "cell_type": "code",
   "execution_count": 3,
   "id": "d2fbbb5dcaab1098",
   "metadata": {
    "ExecuteTime": {
     "end_time": "2025-03-24T18:29:12.626484Z",
     "start_time": "2025-03-24T18:29:11.874333Z"
    }
   },
   "outputs": [],
   "source": [
    "data_yaml = os.path.join(os.getcwd(), \"../../dataset\", \"data.yaml\")"
   ]
  },
  {
   "cell_type": "code",
   "execution_count": null,
   "id": "3f64ffe4d08fb17c",
   "metadata": {
    "ExecuteTime": {
     "end_time": "2025-03-24T18:35:59.580158Z",
     "start_time": "2025-03-24T18:34:49.708422Z"
    }
   },
   "outputs": [],
   "source": [
    "results = model.train(\n",
    "    data=data_yaml,\n",
    "    epochs=50,\n",
    "    imgsz=640,\n",
    "    batch=4,\n",
    "    device=0 if torch.cuda.is_available() else 'cpu',\n",
    "    augment=False,\n",
    "    save=True,\n",
    "    workers=4,\n",
    "    name=\"filled_circles_model\",\n",
    "    verbose=False # Set verbose to False\n",
    ")\n",
    "\n",
    "# Testar o modelo\n",
    "metrics = model.val()\n",
    "\n",
    "# Acessar as métricas de precisão\n",
    "precision = metrics.results_dict.get('metrics/precision(B)')\n",
    "recall = metrics.results_dict.get('metrics/recall(B)')\n",
    "map50 = metrics.results_dict.get('metrics/mAP50(B)')\n",
    "map50_95 = metrics.results_dict.get('metrics/mAP50-95(B)')\n",
    "\n",
    "# Imprimir as métricas de precisão no final\n",
    "print(\"\\n--- Resultados do Treinamento ---\")\n",
    "print(f\"Precisão: {precision}\")\n",
    "print(f\"Recall: {recall}\")\n",
    "print(f\"mAP@50: {map50}\")\n",
    "print(f\"mAP@50-95: {map50_95}\")\n"
   ]
  },
  {
   "cell_type": "code",
   "execution_count": 9,
   "id": "09e5ced2",
   "metadata": {},
   "outputs": [
    {
     "name": "stdout",
     "output_type": "stream",
     "text": [
      "Melhor modelo copiado como 'best.pt'\n"
     ]
    }
   ],
   "source": [
    "import os\n",
    "import shutil\n",
    "\n",
    "# Caminho para o melhor modelo com base na saída\n",
    "model_dir = \"/home/teixeira/code/studybuddy/stb-answer-key/runs/detect/filled_circles_model/\"\n",
    "best_model_path = os.path.join(model_dir, \"weights\", \"best.pt\")\n",
    "\n",
    "# Verificar e copiar\n",
    "if os.path.exists(best_model_path):\n",
    "    shutil.copy(best_model_path, \"best.pt\")\n",
    "    print(f\"Melhor modelo copiado como 'best.pt'\")\n",
    "else:\n",
    "    # Alternativa: usar o último modelo\n",
    "    last_model_path = os.path.join(model_dir, \"weights\", \"last.pt\")\n",
    "    if os.path.exists(last_model_path):\n",
    "        shutil.copy(last_model_path, \"best.pt\")\n",
    "        print(f\"Último modelo copiado como 'best.pt'\")\n",
    "    else:\n",
    "        print(f\"Nenhum modelo encontrado em {model_dir}/weights/\")"
   ]
  },
  {
   "cell_type": "code",
   "execution_count": 13,
   "id": "fbe7d4a2ba813122",
   "metadata": {
    "ExecuteTime": {
     "end_time": "2025-03-24T18:42:27.892104Z",
     "start_time": "2025-03-24T18:42:27.806146Z"
    }
   },
   "outputs": [
    {
     "name": "stdout",
     "output_type": "stream",
     "text": [
      "\n",
      "image 1/1 /home/teixeira/code/studybuddy/stb-answer-key/images/example1.jpeg: 640x384 24 filled_circles, 10.5ms\n",
      "Speed: 1.5ms preprocess, 10.5ms inference, 1.9ms postprocess per image at shape (1, 3, 640, 384)\n",
      "Imagem salva como: example1_predictions_17-08_00-34-05.jpeg\n"
     ]
    }
   ],
   "source": [
    "import cv2\n",
    "import os\n",
    "from datetime import datetime\n",
    "\n",
    "from ultralytics import YOLO\n",
    "\n",
    "model = YOLO(\"best.pt\")\n",
    "image_path = \"/home/teixeira/code/studybuddy/stb-answer-key/images/example1.jpeg\"\n",
    "\n",
    "# Extrair nome do arquivo e extensão\n",
    "filename, extension = os.path.splitext(os.path.basename(image_path))\n",
    "# output_path = f\"{filename}_predictions{extension}\"\n",
    "current_time = datetime.now().strftime(\"%d-%m_%H-%M-%S\")  # dia-mes_hora-minuto-segundo\n",
    "output_path = f\"{filename}_predictions_{current_time}{extension}\"\n",
    "\n",
    "results = model(image_path)\n",
    "\n",
    "# Obter informações das caixas\n",
    "boxes = results[0].boxes.xyxy.cpu().numpy().astype(int)\n",
    "confidences = results[0].boxes.conf.cpu().numpy()\n",
    "class_ids = results[0].boxes.cls.cpu().numpy().astype(int)\n",
    "names = results[0].names\n",
    "\n",
    "# Carregar imagem original\n",
    "image = cv2.imread(image_path)\n",
    "\n",
    "# Desenhar caixas\n",
    "for i, box in enumerate(boxes):\n",
    "    x1, y1, x2, y2 = box\n",
    "    confidence = confidences[i]\n",
    "    class_id = class_ids[i]\n",
    "    class_name = names[class_id]\n",
    "    label = f\"{class_name}: {confidence:.2f}\"\n",
    "\n",
    "    cv2.rectangle(image, (x1, y1), (x2, y2), (0, 255, 0), 2)\n",
    "\n",
    "# Salvar imagem com predições\n",
    "cv2.imwrite(output_path, image)\n",
    "print(f\"Imagem salva como: {output_path}\")"
   ]
  },
  {
   "cell_type": "code",
   "execution_count": 2,
   "id": "f3376b9a",
   "metadata": {},
   "outputs": [
    {
     "name": "stdout",
     "output_type": "stream",
     "text": [
      "\n",
      "image 1/1 /home/teixeira/code/studybuddy/stb-cv-black-filled-circle-detector/test_image_2.jpeg: 640x384 10 filled_circles, 54.4ms\n",
      "Speed: 2.9ms preprocess, 54.4ms inference, 38.1ms postprocess per image at shape (1, 3, 640, 384)\n",
      "JSON salvo em result.json\n"
     ]
    }
   ],
   "source": [
    "import cv2\n",
    "import os\n",
    "import numpy as np\n",
    "import json\n",
    "from datetime import datetime\n",
    "from ultralytics import YOLO\n",
    "\n",
    "# Carrega o modelo\n",
    "model = YOLO(\"best.pt\")\n",
    "\n",
    "# Caminho da imagem\n",
    "image_path = \"test_image_2.jpeg\"\n",
    "filename, extension = os.path.splitext(os.path.basename(image_path))\n",
    "current_time = datetime.now().strftime(\"%d-%m_%H-%M-%S\")\n",
    "output_path = f\"{filename}_predictions_{current_time}{extension}\"\n",
    "\n",
    "# Roda a predição\n",
    "results = model(image_path)\n",
    "\n",
    "# Acessa o primeiro resultado (suporta batch)\n",
    "r = results[0]\n",
    "\n",
    "# Extrai as informações relevantes\n",
    "result_data = {\n",
    "    \"image_path\": image_path,\n",
    "    \"predictions\": []\n",
    "}\n",
    "\n",
    "# Loop pelas caixas detectadas\n",
    "for box in r.boxes:\n",
    "    prediction = {\n",
    "        \"class_id\": int(box.cls[0]),\n",
    "        \"confidence\": float(box.conf[0]),\n",
    "        \"bbox_xyxy\": [float(x) for x in box.xyxy[0].tolist()]  # [x1, y1, x2, y2]\n",
    "    }\n",
    "    result_data[\"predictions\"].append(prediction)\n",
    "\n",
    "# Salva em JSON\n",
    "with open(\"result.json\", \"w\", encoding=\"utf-8\") as f:\n",
    "    json.dump(result_data, f, indent=4, ensure_ascii=False)\n",
    "\n",
    "print(\"JSON salvo em result.json\")\n"
   ]
  }
 ],
 "metadata": {
  "kernelspec": {
   "display_name": ".venv",
   "language": "python",
   "name": "python3"
  },
  "language_info": {
   "codemirror_mode": {
    "name": "ipython",
    "version": 3
   },
   "file_extension": ".py",
   "mimetype": "text/x-python",
   "name": "python",
   "nbconvert_exporter": "python",
   "pygments_lexer": "ipython3",
   "version": "3.11.13"
  }
 },
 "nbformat": 5,
 "nbformat_minor": 9
}
